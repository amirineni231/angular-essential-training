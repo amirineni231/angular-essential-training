{
  "nbformat": 4,
  "nbformat_minor": 0,
  "metadata": {
    "colab": {
      "name": "Untitled9.ipynb",
      "provenance": [],
      "authorship_tag": "ABX9TyOLe84tnNqIvJ5M7EKIhT5o",
      "include_colab_link": true
    },
    "kernelspec": {
      "name": "python3",
      "display_name": "Python 3"
    },
    "language_info": {
      "name": "python"
    }
  },
  "cells": [
    {
      "cell_type": "markdown",
      "metadata": {
        "id": "view-in-github",
        "colab_type": "text"
      },
      "source": [
        "<a href=\"https://colab.research.google.com/github/amirineni231/angular-essential-training/blob/master/Untitled9.ipynb\" target=\"_parent\"><img src=\"https://colab.research.google.com/assets/colab-badge.svg\" alt=\"Open In Colab\"/></a>"
      ]
    },
    {
      "cell_type": "code",
      "metadata": {
        "colab": {
          "base_uri": "https://localhost:8080/"
        },
        "id": "Ccbl-Y6aaJ-C",
        "outputId": "5c1d16dd-219d-4d66-88cd-f53009c0ca53"
      },
      "source": [
        "!pip install pulp"
      ],
      "execution_count": 2,
      "outputs": [
        {
          "output_type": "stream",
          "text": [
            "Collecting pulp\n",
            "  Downloading PuLP-2.4-py3-none-any.whl (40.6 MB)\n",
            "\u001b[K     |████████████████████████████████| 40.6 MB 29 kB/s \n",
            "\u001b[?25hCollecting amply>=0.1.2\n",
            "  Downloading amply-0.1.4-py3-none-any.whl (16 kB)\n",
            "Requirement already satisfied: pyparsing in /usr/local/lib/python3.7/dist-packages (from amply>=0.1.2->pulp) (2.4.7)\n",
            "Requirement already satisfied: docutils>=0.3 in /usr/local/lib/python3.7/dist-packages (from amply>=0.1.2->pulp) (0.17.1)\n",
            "Installing collected packages: amply, pulp\n",
            "Successfully installed amply-0.1.4 pulp-2.4\n"
          ],
          "name": "stdout"
        }
      ]
    },
    {
      "cell_type": "code",
      "metadata": {
        "colab": {
          "base_uri": "https://localhost:8080/"
        },
        "id": "3jmW06VKaDUR",
        "outputId": "82c0deb1-6f68-4a75-e308-eb0c87e58371"
      },
      "source": [
        "import pulp as plp\n",
        "opt_model = plp.LpProblem(name=\"MIP Model\")"
      ],
      "execution_count": null,
      "outputs": [
        {
          "output_type": "stream",
          "text": [
            "/usr/local/lib/python3.7/dist-packages/pulp/pulp.py:1199: UserWarning: Spaces are not permitted in the name. Converted to '_'\n",
            "  warnings.warn(\"Spaces are not permitted in the name. Converted to '_'\")\n"
          ],
          "name": "stderr"
        }
      ]
    },
    {
      "cell_type": "code",
      "metadata": {
        "id": "7HJV3S2saQZ6"
      },
      "source": [
        "import pandas as pd\n",
        "import random\n",
        "n = 3\n",
        "m = 2\n",
        "set_I = range(1, n+1)\n",
        "set_J = range(1, m+1)\n",
        "c = {(1,1):20, (1,2):40, (2,1):20, (2,2):40, (3,1):20, (3,2):40}\n",
        "a = {(1,1):0.5, (1,2):1, (2,1):1, (2,2):2.5, (3,1):1, (3,2):2}\n",
        "l = {(i,j): 0 for i in set_I for j in set_J}\n",
        "u = {(i,j): 200 for i in set_I for j in set_J}\n",
        "b = {1:30, 2:60, 3:22}"
      ],
      "execution_count": null,
      "outputs": []
    },
    {
      "cell_type": "code",
      "metadata": {
        "colab": {
          "base_uri": "https://localhost:8080/"
        },
        "id": "V0492dmsaVhp",
        "outputId": "7f31391f-0f3f-4d13-b5ac-46f019b8a737"
      },
      "source": [
        "x_vars  = {(i,j):\n",
        "plp.LpVariable(cat=plp.LpInteger, \n",
        "               lowBound=l[i,j], upBound= u[i,j],\n",
        "               name=\"x_{0}_{1}\".format(i,j)) \n",
        "for i in set_I for j in set_J}\n",
        "\n",
        "x_vars"
      ],
      "execution_count": null,
      "outputs": [
        {
          "output_type": "execute_result",
          "data": {
            "text/plain": [
              "{(1, 1): x_1_1,\n",
              " (1, 2): x_1_2,\n",
              " (2, 1): x_2_1,\n",
              " (2, 2): x_2_2,\n",
              " (3, 1): x_3_1,\n",
              " (3, 2): x_3_2}"
            ]
          },
          "metadata": {
            "tags": []
          },
          "execution_count": 20
        }
      ]
    },
    {
      "cell_type": "code",
      "metadata": {
        "id": "I3E9QSwiaYGh"
      },
      "source": [
        "constraints = {i : plp.LpConstraint(\n",
        "             e=plp.lpSum(a[i,j] * x_vars[i,j] for j in set_J),\n",
        "             sense=plp.LpConstraintLE,\n",
        "             rhs=b[i],\n",
        "             name=\"constraint_{0}\".format(i))\n",
        "       for i in set_I}"
      ],
      "execution_count": null,
      "outputs": []
    },
    {
      "cell_type": "code",
      "metadata": {
        "colab": {
          "base_uri": "https://localhost:8080/"
        },
        "id": "dqrbTj5CfMmo",
        "outputId": "1a75f2f5-659f-474e-917c-632fa7e035d4"
      },
      "source": [
        "cons = {i :plp.LpConstraint(\n",
        "             e=plp.lpSum(a[i,j] * x_vars[i,j] for j in set_J),\n",
        "             sense=plp.LpConstraintLE,\n",
        "             rhs=b[i],\n",
        "             name=\"constraint_{0}\".format(i))\n",
        "       for i in set_I}\n",
        "cons"
      ],
      "execution_count": null,
      "outputs": [
        {
          "output_type": "execute_result",
          "data": {
            "text/plain": [
              "{1: LpConstraint([(x_1_1, 0.5), (x_1_2, 1)]),\n",
              " 2: LpConstraint([(x_2_1, 1), (x_2_2, 2.5)]),\n",
              " 3: LpConstraint([(x_3_1, 1), (x_3_2, 2)])}"
            ]
          },
          "metadata": {
            "tags": []
          },
          "execution_count": 31
        }
      ]
    },
    {
      "cell_type": "code",
      "metadata": {
        "colab": {
          "base_uri": "https://localhost:8080/"
        },
        "id": "EwFUqmuNbHcF",
        "outputId": "e4f7171d-9247-4166-8a82-6854bc7f179a"
      },
      "source": [
        "constraints"
      ],
      "execution_count": null,
      "outputs": [
        {
          "output_type": "execute_result",
          "data": {
            "text/plain": [
              "{1: LpConstraint([(x_1_1, 0.5), (x_1_2, 1)]),\n",
              " 2: LpConstraint([(x_2_1, 1), (x_2_2, 2.5)]),\n",
              " 3: LpConstraint([(x_3_1, 1), (x_3_2, 2)])}"
            ]
          },
          "metadata": {
            "tags": []
          },
          "execution_count": 33
        }
      ]
    },
    {
      "cell_type": "code",
      "metadata": {
        "colab": {
          "base_uri": "https://localhost:8080/",
          "height": 320
        },
        "id": "HAWqLBYSkynG",
        "outputId": "cfcc0bca-3ab2-49b5-b332-6478213a083f"
      },
      "source": [
        "for i in set_I:\n",
        "  opt_model += constraints[i]\n"
      ],
      "execution_count": null,
      "outputs": [
        {
          "output_type": "error",
          "ename": "PulpError",
          "evalue": "ignored",
          "traceback": [
            "\u001b[0;31m---------------------------------------------------------------------------\u001b[0m",
            "\u001b[0;31mPulpError\u001b[0m                                 Traceback (most recent call last)",
            "\u001b[0;32m<ipython-input-36-a33e22d4a253>\u001b[0m in \u001b[0;36m<module>\u001b[0;34m()\u001b[0m\n\u001b[1;32m      1\u001b[0m \u001b[0;32mfor\u001b[0m \u001b[0mi\u001b[0m \u001b[0;32min\u001b[0m \u001b[0mset_I\u001b[0m\u001b[0;34m:\u001b[0m\u001b[0;34m\u001b[0m\u001b[0;34m\u001b[0m\u001b[0m\n\u001b[0;32m----> 2\u001b[0;31m   \u001b[0mopt_model\u001b[0m \u001b[0;34m+=\u001b[0m \u001b[0mconstraints\u001b[0m\u001b[0;34m[\u001b[0m\u001b[0mi\u001b[0m\u001b[0;34m]\u001b[0m\u001b[0;34m\u001b[0m\u001b[0;34m\u001b[0m\u001b[0m\n\u001b[0m",
            "\u001b[0;32m/usr/local/lib/python3.7/dist-packages/pulp/pulp.py\u001b[0m in \u001b[0;36m__iadd__\u001b[0;34m(self, other)\u001b[0m\n\u001b[1;32m   1532\u001b[0m             \u001b[0mself\u001b[0m\u001b[0;34m.\u001b[0m\u001b[0maddConstraint\u001b[0m\u001b[0;34m(\u001b[0m\u001b[0mother\u001b[0m\u001b[0;34m.\u001b[0m\u001b[0mconstraint\u001b[0m\u001b[0;34m)\u001b[0m\u001b[0;34m\u001b[0m\u001b[0;34m\u001b[0m\u001b[0m\n\u001b[1;32m   1533\u001b[0m         \u001b[0;32melif\u001b[0m \u001b[0misinstance\u001b[0m\u001b[0;34m(\u001b[0m\u001b[0mother\u001b[0m\u001b[0;34m,\u001b[0m \u001b[0mLpConstraint\u001b[0m\u001b[0;34m)\u001b[0m\u001b[0;34m:\u001b[0m\u001b[0;34m\u001b[0m\u001b[0;34m\u001b[0m\u001b[0m\n\u001b[0;32m-> 1534\u001b[0;31m             \u001b[0mself\u001b[0m\u001b[0;34m.\u001b[0m\u001b[0maddConstraint\u001b[0m\u001b[0;34m(\u001b[0m\u001b[0mother\u001b[0m\u001b[0;34m,\u001b[0m \u001b[0mname\u001b[0m\u001b[0;34m)\u001b[0m\u001b[0;34m\u001b[0m\u001b[0;34m\u001b[0m\u001b[0m\n\u001b[0m\u001b[1;32m   1535\u001b[0m         \u001b[0;32melif\u001b[0m \u001b[0misinstance\u001b[0m\u001b[0;34m(\u001b[0m\u001b[0mother\u001b[0m\u001b[0;34m,\u001b[0m \u001b[0mLpAffineExpression\u001b[0m\u001b[0;34m)\u001b[0m\u001b[0;34m:\u001b[0m\u001b[0;34m\u001b[0m\u001b[0;34m\u001b[0m\u001b[0m\n\u001b[1;32m   1536\u001b[0m             \u001b[0;32mif\u001b[0m \u001b[0mself\u001b[0m\u001b[0;34m.\u001b[0m\u001b[0mobjective\u001b[0m \u001b[0;32mis\u001b[0m \u001b[0;32mnot\u001b[0m \u001b[0;32mNone\u001b[0m\u001b[0;34m:\u001b[0m\u001b[0;34m\u001b[0m\u001b[0;34m\u001b[0m\u001b[0m\n",
            "\u001b[0;32m/usr/local/lib/python3.7/dist-packages/pulp/pulp.py\u001b[0m in \u001b[0;36maddConstraint\u001b[0;34m(self, constraint, name)\u001b[0m\n\u001b[1;32m   1494\u001b[0m         \u001b[0;32mif\u001b[0m \u001b[0mname\u001b[0m \u001b[0;32min\u001b[0m \u001b[0mself\u001b[0m\u001b[0;34m.\u001b[0m\u001b[0mconstraints\u001b[0m\u001b[0;34m:\u001b[0m\u001b[0;34m\u001b[0m\u001b[0;34m\u001b[0m\u001b[0m\n\u001b[1;32m   1495\u001b[0m             \u001b[0;32mif\u001b[0m \u001b[0mself\u001b[0m\u001b[0;34m.\u001b[0m\u001b[0mnoOverlap\u001b[0m\u001b[0;34m:\u001b[0m\u001b[0;34m\u001b[0m\u001b[0;34m\u001b[0m\u001b[0m\n\u001b[0;32m-> 1496\u001b[0;31m                 \u001b[0;32mraise\u001b[0m \u001b[0mconst\u001b[0m\u001b[0;34m.\u001b[0m\u001b[0mPulpError\u001b[0m\u001b[0;34m(\u001b[0m\u001b[0;34m\"overlapping constraint names: \"\u001b[0m \u001b[0;34m+\u001b[0m \u001b[0mname\u001b[0m\u001b[0;34m)\u001b[0m\u001b[0;34m\u001b[0m\u001b[0;34m\u001b[0m\u001b[0m\n\u001b[0m\u001b[1;32m   1497\u001b[0m             \u001b[0;32melse\u001b[0m\u001b[0;34m:\u001b[0m\u001b[0;34m\u001b[0m\u001b[0;34m\u001b[0m\u001b[0m\n\u001b[1;32m   1498\u001b[0m                 \u001b[0mprint\u001b[0m\u001b[0;34m(\u001b[0m\u001b[0;34m\"Warning: overlapping constraint names:\"\u001b[0m\u001b[0;34m,\u001b[0m \u001b[0mname\u001b[0m\u001b[0;34m)\u001b[0m\u001b[0;34m\u001b[0m\u001b[0;34m\u001b[0m\u001b[0m\n",
            "\u001b[0;31mPulpError\u001b[0m: overlapping constraint names: constraint_1"
          ]
        }
      ]
    },
    {
      "cell_type": "code",
      "metadata": {
        "colab": {
          "base_uri": "https://localhost:8080/"
        },
        "id": "xIvp3MOrakS8",
        "outputId": "e2ad16db-e118-4d35-d4db-e73a9167c674"
      },
      "source": [
        "objective = plp.lpSum(x_vars[i,j] * c[i,j] \n",
        "                    for i in set_I \n",
        "                    for j in set_J)\n",
        "\n",
        "opt_model.sense = plp.LpMaximize\n",
        "\n",
        "opt_model.solve()\n"
      ],
      "execution_count": null,
      "outputs": [
        {
          "output_type": "execute_result",
          "data": {
            "text/plain": [
              "1"
            ]
          },
          "metadata": {
            "tags": []
          },
          "execution_count": 24
        }
      ]
    },
    {
      "cell_type": "code",
      "metadata": {
        "colab": {
          "base_uri": "https://localhost:8080/"
        },
        "id": "odcXyYNOckzD",
        "outputId": "51202152-4621-4538-abaf-855aef6feb50"
      },
      "source": [
        "objective"
      ],
      "execution_count": null,
      "outputs": [
        {
          "output_type": "execute_result",
          "data": {
            "text/plain": [
              "LpAffineExpression([(x_1_1, 20),\n",
              "                    (x_1_2, 40),\n",
              "                    (x_2_1, 20),\n",
              "                    (x_2_2, 40),\n",
              "                    (x_3_1, 20),\n",
              "                    (x_3_2, 40)])"
            ]
          },
          "metadata": {
            "tags": []
          },
          "execution_count": 25
        }
      ]
    },
    {
      "cell_type": "code",
      "metadata": {
        "id": "kKOJJuUXasnc"
      },
      "source": [
        "opt_df = pd.DataFrame.from_dict(x_vars, orient=\"index\", \n",
        "                                columns = [\"variable_object\"])\n",
        "opt_df.index = pd.MultiIndex.from_tuples(opt_df.index, \n",
        "                               names=[\"column_i\", \"column_j\"])\n",
        "opt_df.reset_index(inplace=True)\n",
        "\n",
        "opt_df[\"solution_value\"] = opt_df[\"variable_object\"].apply(lambda item: item.varValue)\n",
        "opt_df.drop(columns=[\"variable_object\"], inplace=True)\n",
        "opt_df.to_csv(\"./optimization_solution.csv\")"
      ],
      "execution_count": null,
      "outputs": []
    },
    {
      "cell_type": "code",
      "metadata": {
        "id": "hjIFc3H4ONSG"
      },
      "source": [
        "import pulp as pl"
      ],
      "execution_count": 3,
      "outputs": []
    },
    {
      "cell_type": "code",
      "metadata": {
        "colab": {
          "base_uri": "https://localhost:8080/",
          "height": 229
        },
        "id": "NkjXsrTSOIs2",
        "outputId": "e2ac7573-ff70-4a45-ca6f-d88ac32bdfd8"
      },
      "source": [
        "model = LpProblem(\"Max Bakery Profits\", pl.LpMaximize)\n",
        "\n",
        "A = pl.LpVariable('A', lowBound=0, cat='Integer')\n",
        "B = pl.LpVariable('B', lowBound=0, cat='Integer')\n",
        "\n",
        "model += 20*A + 40*B\n",
        "\n",
        "model += 0.5*A + 1*B <= 30\n",
        "model += 1*A + 2.5*B <= 60\n",
        "model += 1*A + 2*B <= 22\n",
        "\n",
        "model.solve()\n",
        "\n",
        "print('value of A = {}'.format(pl.value(A)))\n",
        "print('value of B = {}'.format(pl.value(B)))"
      ],
      "execution_count": 7,
      "outputs": [
        {
          "output_type": "error",
          "ename": "NameError",
          "evalue": "ignored",
          "traceback": [
            "\u001b[0;31m---------------------------------------------------------------------------\u001b[0m",
            "\u001b[0;31mNameError\u001b[0m                                 Traceback (most recent call last)",
            "\u001b[0;32m<ipython-input-7-14fa1d3d3c23>\u001b[0m in \u001b[0;36m<module>\u001b[0;34m()\u001b[0m\n\u001b[0;32m----> 1\u001b[0;31m \u001b[0mmodel\u001b[0m \u001b[0;34m=\u001b[0m \u001b[0mLpProblem\u001b[0m\u001b[0;34m(\u001b[0m\u001b[0;34m\"Max Bakery Profits\"\u001b[0m\u001b[0;34m,\u001b[0m \u001b[0mpl\u001b[0m\u001b[0;34m.\u001b[0m\u001b[0mLpMaximize\u001b[0m\u001b[0;34m)\u001b[0m\u001b[0;34m\u001b[0m\u001b[0;34m\u001b[0m\u001b[0m\n\u001b[0m\u001b[1;32m      2\u001b[0m \u001b[0;34m\u001b[0m\u001b[0m\n\u001b[1;32m      3\u001b[0m \u001b[0mA\u001b[0m \u001b[0;34m=\u001b[0m \u001b[0mpl\u001b[0m\u001b[0;34m.\u001b[0m\u001b[0mLpVariable\u001b[0m\u001b[0;34m(\u001b[0m\u001b[0;34m'A'\u001b[0m\u001b[0;34m,\u001b[0m \u001b[0mlowBound\u001b[0m\u001b[0;34m=\u001b[0m\u001b[0;36m0\u001b[0m\u001b[0;34m,\u001b[0m \u001b[0mcat\u001b[0m\u001b[0;34m=\u001b[0m\u001b[0;34m'Integer'\u001b[0m\u001b[0;34m)\u001b[0m\u001b[0;34m\u001b[0m\u001b[0;34m\u001b[0m\u001b[0m\n\u001b[1;32m      4\u001b[0m \u001b[0mB\u001b[0m \u001b[0;34m=\u001b[0m \u001b[0mpl\u001b[0m\u001b[0;34m.\u001b[0m\u001b[0mLpVariable\u001b[0m\u001b[0;34m(\u001b[0m\u001b[0;34m'B'\u001b[0m\u001b[0;34m,\u001b[0m \u001b[0mlowBound\u001b[0m\u001b[0;34m=\u001b[0m\u001b[0;36m0\u001b[0m\u001b[0;34m,\u001b[0m \u001b[0mcat\u001b[0m\u001b[0;34m=\u001b[0m\u001b[0;34m'Integer'\u001b[0m\u001b[0;34m)\u001b[0m\u001b[0;34m\u001b[0m\u001b[0;34m\u001b[0m\u001b[0m\n\u001b[1;32m      5\u001b[0m \u001b[0;34m\u001b[0m\u001b[0m\n",
            "\u001b[0;31mNameError\u001b[0m: name 'LpProblem' is not defined"
          ]
        }
      ]
    }
  ]
}